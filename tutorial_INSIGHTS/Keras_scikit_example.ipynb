{
 "cells": [
  {
   "cell_type": "code",
   "execution_count": 1,
   "metadata": {},
   "outputs": [
    {
     "name": "stdout",
     "output_type": "stream",
     "text": [
      "Welcome to JupyROOT 6.15/01\n"
     ]
    }
   ],
   "source": [
    "import ROOT\n",
    "from ROOT import TMVA\n",
    "\n",
    "import numpy as np\n",
    "import time"
   ]
  },
  {
   "cell_type": "code",
   "execution_count": 2,
   "metadata": {},
   "outputs": [
    {
     "name": "stdout",
     "output_type": "stream",
     "text": [
      "TFile**\t\tHiggs_data.root\t\n",
      " TFile*\t\tHiggs_data.root\t\n",
      "  KEY: TTree\tsig_tree;1\tSignal Tree\n",
      "  KEY: TTree\tbkg_tree;1\tBackground Tree\n"
     ]
    }
   ],
   "source": [
    "inputFile = ROOT.TFile(\"Higgs_data.root\")\n",
    "inputFile.ls()"
   ]
  },
  {
   "cell_type": "code",
   "execution_count": 3,
   "metadata": {},
   "outputs": [],
   "source": [
    "sig_evts = inputFile.sig_tree.AsMatrix(['m_jj','m_jjj','m_lv','m_jlv','m_bb','m_wbb','m_wwbb'])"
   ]
  },
  {
   "cell_type": "code",
   "execution_count": 4,
   "metadata": {},
   "outputs": [
    {
     "name": "stdout",
     "output_type": "stream",
     "text": [
      "[[0.86705905 1.12717986 1.21166396 ... 0.6940676  0.7558133  0.76165789]\n",
      " [1.93866849 1.23389792 0.99006349 ... 0.90061414 0.91761291 1.08336937]\n",
      " [0.88164133 0.84538066 0.99740821 ... 0.78713214 0.65766817 0.72114676]\n",
      " ...\n",
      " [0.33098638 1.1221211  0.98452914 ... 0.99097657 0.81343573 0.75893229]\n",
      " [0.88228101 0.75431746 0.99221778 ... 0.57071501 0.59710413 0.5682196 ]\n",
      " [1.13515067 0.99333692 0.97866201 ... 0.13703139 0.75950158 0.79101425]]\n"
     ]
    }
   ],
   "source": [
    "print(sig_evts)"
   ]
  },
  {
   "cell_type": "code",
   "execution_count": 5,
   "metadata": {},
   "outputs": [],
   "source": [
    "bkg_evts = inputFile.bkg_tree.AsMatrix(['m_jj','m_jjj','m_lv','m_jlv','m_bb','m_wbb','m_wwbb'])"
   ]
  },
  {
   "cell_type": "code",
   "execution_count": 6,
   "metadata": {},
   "outputs": [
    {
     "name": "stdout",
     "output_type": "stream",
     "text": [
      "[[0.57275063 1.07768857 0.98565662 ... 0.88531804 0.84836376 0.84490532]\n",
      " [1.71470094 1.39858317 0.98444569 ... 0.99755013 1.05524576 0.96557057]\n",
      " [1.1574676  0.86232114 0.98406738 ... 0.9502396  0.8275283  0.86550403]\n",
      " ...\n",
      " [0.97802567 1.02362823 1.27613914 ... 1.50466847 1.01351249 0.91299349]\n",
      " [0.82587695 0.89610744 1.01591611 ... 0.8591187  0.80801648 0.73538506]\n",
      " [0.56384832 0.501809   0.98341399 ... 0.50350058 0.65547013 0.57149076]]\n"
     ]
    }
   ],
   "source": [
    "print(bkg_evts)"
   ]
  },
  {
   "cell_type": "markdown",
   "metadata": {},
   "source": [
    "### Make Input data and target arrays\n",
    "Make array of target values. Traget = 1 for signal events and = 0 for background ones"
   ]
  },
  {
   "cell_type": "code",
   "execution_count": 7,
   "metadata": {},
   "outputs": [
    {
     "name": "stdout",
     "output_type": "stream",
     "text": [
      "[1. 1. 1. ... 1. 1. 1.]\n"
     ]
    }
   ],
   "source": [
    "sig_target = np.arange(len(sig_evts), dtype='float')\n",
    "sig_target[0:len(sig_target)]=1.\n",
    "bkg_target = np.arange(len(bkg_evts), dtype='float')\n",
    "bkg_target[0:len(bkg_target)]=0.\n",
    "print(sig_target)"
   ]
  },
  {
   "cell_type": "code",
   "execution_count": 8,
   "metadata": {},
   "outputs": [],
   "source": [
    "## Use numpy function concatenate to append signal and backgorund arrays\n",
    "inputs = np.concatenate((sig_evts,bkg_evts))\n",
    "targets = np.concatenate((sig_target,bkg_target))"
   ]
  },
  {
   "cell_type": "markdown",
   "metadata": {},
   "source": [
    "#### Inspect  input distributions\n",
    "\n",
    "We look for example at some input distributions"
   ]
  },
  {
   "cell_type": "code",
   "execution_count": 9,
   "metadata": {},
   "outputs": [
    {
     "name": "stderr",
     "output_type": "stream",
     "text": [
      "Info in <TCanvas::MakeDefCanvas>:  created default TCanvas with name c1\n"
     ]
    },
    {
     "data": {
      "image/png": "[encoded data removed]",
      "text/plain": [
       "<IPython.core.display.Image object>"
      ]
     },
     "metadata": {},
     "output_type": "display_data"
    }
   ],
   "source": [
    "## we make an histogram of variable m_wbb (ivar=5)\n",
    "ivar = 5\n",
    "varName = \"m_wbb\"\n",
    "h1 = ROOT.TH1D(\"hs\",varName,100,1,0)\n",
    "h2 = ROOT.TH1D(\"hb\",varName + \" (background)\",100,1,0)\n",
    "dims = inputs.shape\n",
    "nevt = dims[0]\n",
    "for i in range(0,nevt):\n",
    "    if (targets[i] == 1.):\n",
    "        h1.Fill(inputs[i,ivar])\n",
    "    else:\n",
    "        h2.Fill(inputs[i,ivar])\n",
    "        \n",
    "        \n",
    "h1.SetLineColor(ROOT.kRed)\n",
    "h1.Draw()\n",
    "h2.Draw(\"SAME\")\n",
    "ROOT.gPad.BuildLegend()\n",
    "ROOT.gPad.Draw()"
   ]
  },
  {
   "cell_type": "markdown",
   "metadata": {},
   "source": [
    "### Run Keras "
   ]
  },
  {
   "cell_type": "code",
   "execution_count": 10,
   "metadata": {},
   "outputs": [
    {
     "name": "stderr",
     "output_type": "stream",
     "text": [
      "Using TensorFlow backend.\n"
     ]
    }
   ],
   "source": [
    "import numpy as np\n",
    "np.random.seed(1234)\n",
    "import os\n",
    "os.environ[\"KERAS_BACKEND\"] = \"tensorflow\"\n",
    "import subprocess\n",
    "import h5py\n",
    "import pickle\n",
    "\n",
    "from keras.models import Sequential\n",
    "from keras.layers.core import Dense, Dropout\n",
    "from keras.optimizers import Adam, SGD\n",
    "\n",
    "from sklearn.model_selection import train_test_split"
   ]
  },
  {
   "cell_type": "markdown",
   "metadata": {},
   "source": [
    "####  Use scikit-learn function to split data in test and training set"
   ]
  },
  {
   "cell_type": "code",
   "execution_count": 11,
   "metadata": {},
   "outputs": [],
   "source": [
    "inputs_train, inputs_test, targets_train, targets_test = train_test_split(\n",
    "        inputs, targets, test_size=0.10, random_state=123)"
   ]
  },
  {
   "cell_type": "code",
   "execution_count": 12,
   "metadata": {},
   "outputs": [
    {
     "name": "stdout",
     "output_type": "stream",
     "text": [
      "[1. 1. 0. ... 0. 0. 0.]\n"
     ]
    }
   ],
   "source": [
    "print(targets_train)"
   ]
  },
  {
   "cell_type": "markdown",
   "metadata": {},
   "source": [
    "#### Define the Keras model"
   ]
  },
  {
   "cell_type": "code",
   "execution_count": 13,
   "metadata": {},
   "outputs": [
    {
     "name": "stdout",
     "output_type": "stream",
     "text": [
      "_________________________________________________________________\n",
      "Layer (type)                 Output Shape              Param #   \n",
      "=================================================================\n",
      "dense_1 (Dense)              (None, 64)                512       \n",
      "_________________________________________________________________\n",
      "dense_2 (Dense)              (None, 64)                4160      \n",
      "_________________________________________________________________\n",
      "dense_3 (Dense)              (None, 64)                4160      \n",
      "_________________________________________________________________\n",
      "dense_4 (Dense)              (None, 1)                 65        \n",
      "=================================================================\n",
      "Total params: 8,897\n",
      "Trainable params: 8,897\n",
      "Non-trainable params: 0\n",
      "_________________________________________________________________\n"
     ]
    }
   ],
   "source": [
    "# Define model\n",
    "model = Sequential()\n",
    "model.add(Dense(64, kernel_initializer='glorot_normal', activation='tanh', input_dim=7))\n",
    "#model.add(Dropout(0.2))\n",
    "model.add(Dense(64, kernel_initializer='glorot_normal', activation='tanh'))\n",
    "#model.add(Dropout(0.2))\n",
    "model.add(Dense(64, kernel_initializer='glorot_normal', activation='tanh'))\n",
    "model.add(Dense(1, kernel_initializer='glorot_uniform', activation='sigmoid'))\n",
    "\n",
    "\n",
    "# Store model to file\n",
    "##model.save('model_dense.h5')\n",
    "\n",
    "# Print summary of model\n",
    "model.summary()"
   ]
  },
  {
   "cell_type": "code",
   "execution_count": 14,
   "metadata": {},
   "outputs": [],
   "source": [
    "# Set loss and optimizer\n",
    "model.compile(loss=\"binary_crossentropy\",optimizer=\"adam\",metrics=[\"accuracy\"])"
   ]
  },
  {
   "cell_type": "markdown",
   "metadata": {},
   "source": [
    "#### Train the Keras model"
   ]
  },
  {
   "cell_type": "markdown",
   "metadata": {},
   "source": [
    "#### Apply input variable transformations using scikit-learn\n",
    "\n",
    "We could transform input variable using some transformation from scikit-learn. \n",
    "For example we could use StandardScaler transformation from scikit.\n",
    "This transforms variable to be of mean zero and standard deviation=1\n",
    "\n",
    "Example code: (not used so far)\n",
    "\n",
    "```\n",
    "from sklearn.preprocessing import StandardScaler\n",
    "preprocessing_input = StandardScaler()\n",
    "preprocessing_input.fit(inputs_train)\n",
    "trans_inputs_train =  preprocessing_input.transform(inputs_train)\n",
    "```"
   ]
  },
  {
   "cell_type": "code",
   "execution_count": 15,
   "metadata": {},
   "outputs": [
    {
     "name": "stdout",
     "output_type": "stream",
     "text": [
      "Train on 12600 samples, validate on 5400 samples\n",
      "Epoch 1/20\n",
      "12600/12600 [==============================] - 1s 91us/step - loss: 0.6826 - acc: 0.5498 - val_loss: 0.6709 - val_acc: 0.5504\n",
      "Epoch 2/20\n",
      "12600/12600 [==============================] - 1s 56us/step - loss: 0.6640 - acc: 0.5985 - val_loss: 0.6536 - val_acc: 0.6167\n",
      "Epoch 3/20\n",
      "12600/12600 [==============================] - 1s 48us/step - loss: 0.6479 - acc: 0.6244 - val_loss: 0.6446 - val_acc: 0.6346\n",
      "Epoch 4/20\n",
      "12600/12600 [==============================] - 1s 51us/step - loss: 0.6378 - acc: 0.6390 - val_loss: 0.6317 - val_acc: 0.6507\n",
      "Epoch 5/20\n",
      "12600/12600 [==============================] - 1s 49us/step - loss: 0.6325 - acc: 0.6460 - val_loss: 0.6302 - val_acc: 0.6581\n",
      "Epoch 6/20\n",
      "12600/12600 [==============================] - 1s 53us/step - loss: 0.6283 - acc: 0.6495 - val_loss: 0.6270 - val_acc: 0.6596\n",
      "Epoch 7/20\n",
      "12600/12600 [==============================] - 1s 50us/step - loss: 0.6219 - acc: 0.6537 - val_loss: 0.6264 - val_acc: 0.6511\n",
      "Epoch 8/20\n",
      "12600/12600 [==============================] - 1s 47us/step - loss: 0.6186 - acc: 0.6585 - val_loss: 0.6234 - val_acc: 0.6652\n",
      "Epoch 9/20\n",
      "12600/12600 [==============================] - 1s 42us/step - loss: 0.6155 - acc: 0.6601 - val_loss: 0.6183 - val_acc: 0.6600\n",
      "Epoch 10/20\n",
      "12600/12600 [==============================] - 1s 52us/step - loss: 0.6148 - acc: 0.6609 - val_loss: 0.6187 - val_acc: 0.6624\n",
      "Epoch 11/20\n",
      "12600/12600 [==============================] - 1s 51us/step - loss: 0.6121 - acc: 0.6602 - val_loss: 0.6161 - val_acc: 0.6593\n",
      "Epoch 12/20\n",
      "12600/12600 [==============================] - 1s 58us/step - loss: 0.6089 - acc: 0.6671 - val_loss: 0.6191 - val_acc: 0.6665\n",
      "Epoch 13/20\n",
      "12600/12600 [==============================] - 1s 64us/step - loss: 0.6082 - acc: 0.6681 - val_loss: 0.6139 - val_acc: 0.6604\n",
      "Epoch 14/20\n",
      "12600/12600 [==============================] - 1s 55us/step - loss: 0.6056 - acc: 0.6698 - val_loss: 0.6097 - val_acc: 0.6644\n",
      "Epoch 15/20\n",
      "12600/12600 [==============================] - 1s 55us/step - loss: 0.6026 - acc: 0.6695 - val_loss: 0.6108 - val_acc: 0.6657\n",
      "Epoch 16/20\n",
      "12600/12600 [==============================] - 1s 63us/step - loss: 0.6036 - acc: 0.6688 - val_loss: 0.6064 - val_acc: 0.6735\n",
      "Epoch 17/20\n",
      "12600/12600 [==============================] - 1s 64us/step - loss: 0.5986 - acc: 0.6759 - val_loss: 0.6039 - val_acc: 0.6735\n",
      "Epoch 18/20\n",
      "12600/12600 [==============================] - 1s 56us/step - loss: 0.5979 - acc: 0.6764 - val_loss: 0.6038 - val_acc: 0.6689\n",
      "Epoch 19/20\n",
      "12600/12600 [==============================] - 1s 57us/step - loss: 0.5979 - acc: 0.6735 - val_loss: 0.6038 - val_acc: 0.6694\n",
      "Epoch 20/20\n",
      "12600/12600 [==============================] - 1s 50us/step - loss: 0.5940 - acc: 0.6825 - val_loss: 0.5998 - val_acc: 0.6720\n"
     ]
    },
    {
     "data": {
      "text/plain": [
       "<keras.callbacks.History at 0x7f4169c4c0d0>"
      ]
     },
     "execution_count": 15,
     "metadata": {},
     "output_type": "execute_result"
    },
    {
     "name": "stderr",
     "output_type": "stream",
     "text": [
      "2018-10-20 19:26:26.333138: I tensorflow/core/platform/cpu_feature_guard.cc:140] Your CPU supports instructions that this TensorFlow binary was not compiled to use: SSE4.1 SSE4.2 AVX AVX2 FMA\n"
     ]
    }
   ],
   "source": [
    "model.fit(inputs_train,targets_train,batch_size=100,epochs=20,validation_split=0.30)\n",
    "#model.fit(trans_inputs_train,targets,batch_size=100,epochs=10,validation_split=0.30)"
   ]
  },
  {
   "cell_type": "markdown",
   "metadata": {},
   "source": [
    "#### Perform prediction with trained model using test set"
   ]
  },
  {
   "cell_type": "code",
   "execution_count": 16,
   "metadata": {},
   "outputs": [
    {
     "name": "stdout",
     "output_type": "stream",
     "text": [
      "[[0.49534348]\n",
      " [0.33869833]\n",
      " [0.35399076]\n",
      " ...\n",
      " [0.4223536 ]\n",
      " [0.48557988]\n",
      " [0.30366942]]\n"
     ]
    }
   ],
   "source": [
    "keras_out = model.predict(inputs_test)\n",
    "print(keras_out)"
   ]
  },
  {
   "cell_type": "code",
   "execution_count": 17,
   "metadata": {},
   "outputs": [
    {
     "data": {
      "image/png": "[encoded data removed]",
      "text/plain": [
       "<IPython.core.display.Image object>"
      ]
     },
     "metadata": {},
     "output_type": "display_data"
    }
   ],
   "source": [
    "pS = ROOT.TH1D(\"ps\",\"Score\",100,0,1)\n",
    "pB = ROOT.TH1D(\"pb\",\"Score (Background)\",100,0,1)\n",
    "for i in range (0,keras_out.shape[0]):\n",
    "    if (targets_test[i] == 1): \n",
    "        pS.Fill(keras_out[i,0])\n",
    "    else:\n",
    "        pB.Fill(keras_out[i,0])\n",
    "        \n",
    "pS.SetLineColor(ROOT.kRed)\n",
    "pS.Draw()\n",
    "pB.Draw('same')\n",
    "ROOT.gPad.Draw()"
   ]
  },
  {
   "cell_type": "markdown",
   "metadata": {},
   "source": [
    "#### Compute ROC "
   ]
  },
  {
   "cell_type": "code",
   "execution_count": 18,
   "metadata": {},
   "outputs": [],
   "source": [
    "from sklearn import metrics"
   ]
  },
  {
   "cell_type": "code",
   "execution_count": 19,
   "metadata": {},
   "outputs": [
    {
     "name": "stdout",
     "output_type": "stream",
     "text": [
      "AUC: 0.738159968952\n"
     ]
    }
   ],
   "source": [
    "\n",
    "##y_true = np.hstack((np.ones(quarks.GetEntries()), np.zeros(gluons.GetEntries())))\n",
    "##y_score = np.hstack((mvaValues_quarks, mvaValues_gluons))\n",
    "fpr, tpr, thresholds = metrics.roc_curve(targets_test, keras_out)\n",
    "\n",
    "# Get AUC from ROC\n",
    "auc = metrics.auc(fpr, tpr)\n",
    "print('AUC: {}'.format(auc))"
   ]
  },
  {
   "cell_type": "markdown",
   "metadata": {},
   "source": [
    "#### Save trained model in a file"
   ]
  },
  {
   "cell_type": "code",
   "execution_count": 20,
   "metadata": {},
   "outputs": [],
   "source": [
    "#model.save('trained_model_dense.h5')"
   ]
  },
  {
   "cell_type": "code",
   "execution_count": 21,
   "metadata": {},
   "outputs": [
    {
     "name": "stdout",
     "output_type": "stream",
     "text": [
      "[[0.88702357 0.95453084 0.98725212 ... 0.62646365 0.87867844 0.79225779]\n",
      " [1.00401211 1.03367901 1.35047066 ... 1.10024583 0.79959005 0.78664428]\n",
      " [0.77781528 0.95035696 0.98657042 ... 1.20908844 1.01778662 0.974774  ]\n",
      " ...\n",
      " [1.51254749 1.07197857 0.98833537 ... 1.76031756 1.09533727 0.88612032]\n",
      " [0.81928593 0.85067874 0.98984611 ... 2.22635937 1.13372147 0.96031088]\n",
      " [1.11431277 1.16048193 0.998209   ... 0.58975536 1.08279443 0.98208863]]\n"
     ]
    }
   ],
   "source": [
    "print(inputs_train)"
   ]
  },
  {
   "cell_type": "markdown",
   "metadata": {},
   "source": [
    "### Use Decision Trees from scikit-learn\n",
    "\n",
    "We create a GradientBoostingClassifier. \n",
    "Look at the scikit documentation for all the possible options"
   ]
  },
  {
   "cell_type": "code",
   "execution_count": 22,
   "metadata": {},
   "outputs": [],
   "source": [
    "from sklearn import tree\n",
    "from sklearn import ensemble"
   ]
  },
  {
   "cell_type": "code",
   "execution_count": 23,
   "metadata": {},
   "outputs": [],
   "source": [
    "gtb = ensemble.GradientBoostingClassifier()"
   ]
  },
  {
   "cell_type": "code",
   "execution_count": 24,
   "metadata": {},
   "outputs": [
    {
     "name": "stdout",
     "output_type": "stream",
     "text": [
      "('elapsed training time = ', 2.0637710094451904)\n"
     ]
    }
   ],
   "source": [
    "start = time.time()\n",
    "gtb = gtb.fit(inputs_train, targets_train)\n",
    "end = time.time()\n",
    "print('elapsed training time = ',end-start)"
   ]
  },
  {
   "cell_type": "code",
   "execution_count": 25,
   "metadata": {},
   "outputs": [],
   "source": [
    "gtb_out = gtb.predict_proba(inputs_test)"
   ]
  },
  {
   "cell_type": "code",
   "execution_count": 26,
   "metadata": {},
   "outputs": [
    {
     "name": "stdout",
     "output_type": "stream",
     "text": [
      "[[0.7843201  0.2156799 ]\n",
      " [0.43251267 0.56748733]\n",
      " [0.64346602 0.35653398]\n",
      " ...\n",
      " [0.69294503 0.30705497]\n",
      " [0.48864164 0.51135836]\n",
      " [0.69174172 0.30825828]]\n",
      "[0.2156799  0.56748733 0.35653398 ... 0.30705497 0.51135836 0.30825828]\n"
     ]
    }
   ],
   "source": [
    "print(gtb_out)\n",
    "out = gtb_out[:,1]\n",
    "print(out)"
   ]
  },
  {
   "cell_type": "code",
   "execution_count": 27,
   "metadata": {},
   "outputs": [
    {
     "data": {
      "image/png": "[encoded data removed]",
      "text/plain": [
       "<IPython.core.display.Image object>"
      ]
     },
     "metadata": {},
     "output_type": "display_data"
    }
   ],
   "source": [
    "pS = ROOT.TH1D(\"score_sig\",\"Score\",100,0,1)\n",
    "pB = ROOT.TH1D(\"score_bkg\",\"Score (Background)\",100,0,1)\n",
    "for i in range (0,out.shape[0]):\n",
    "    if (targets_test[i] == 1): \n",
    "        pS.Fill(out[i])\n",
    "    else:\n",
    "        pB.Fill(out[i])\n",
    "        \n",
    "pS.SetLineColor(ROOT.kRed)\n",
    "pS.Draw()\n",
    "pB.Draw('same')\n",
    "ROOT.gPad.Draw()"
   ]
  },
  {
   "cell_type": "code",
   "execution_count": 28,
   "metadata": {},
   "outputs": [
    {
     "name": "stdout",
     "output_type": "stream",
     "text": [
      "2000\n",
      "(' ROC Integral (AUC) = ', 0.7644361956660902)\n"
     ]
    }
   ],
   "source": [
    "out = gtb_out[:,1]\n",
    "nevt = out.shape[0]\n",
    "print(nevt)\n",
    "ns=0\n",
    "nb=0\n",
    "vscores = ROOT.std.vector('float')(nevt)\n",
    "vtargets = ROOT.std.vector('bool')(nevt)\n",
    "for ievt in range(0,nevt): \n",
    "    #need to use second column\n",
    "    vscores[ievt] = out[ievt]\n",
    "    vtargets[ievt] = int(targets_test[ievt])\n",
    " \n",
    "        \n",
    "##print vtargets\n",
    "roc = ROOT.TMVA.ROCCurve(vscores,vtargets) \n",
    "print (' ROC Integral (AUC) = ',roc.GetROCIntegral())\n",
    "graph = roc.GetROCCurve()\n"
   ]
  },
  {
   "cell_type": "code",
   "execution_count": 29,
   "metadata": {},
   "outputs": [],
   "source": [
    "#c3 = ROOT.TCanvas()\n",
    "graph.SetLineColor(ROOT.kRed)\n",
    "graph.Draw('L')\n",
    "##c3.SaveAs('graph.pdf')"
   ]
  },
  {
   "cell_type": "code",
   "execution_count": 31,
   "metadata": {
    "scrolled": false
   },
   "outputs": [
    {
     "data": {
      "image/png": "[encoded data removed]",
      "text/plain": [
       "<IPython.core.display.Image object>"
      ]
     },
     "metadata": {},
     "output_type": "display_data"
    }
   ],
   "source": [
    "ROOT.gPad.Draw()"
   ]
  },
  {
   "cell_type": "code",
   "execution_count": 32,
   "metadata": {},
   "outputs": [
    {
     "name": "stdout",
     "output_type": "stream",
     "text": [
      "AUC: 0.764243146245\n"
     ]
    }
   ],
   "source": [
    "fpr, tpr, thresholds = metrics.roc_curve(targets_test, out)\n",
    "\n",
    "# Get AUC from ROC\n",
    "auc = metrics.auc(fpr, tpr)\n",
    "print('AUC: {}'.format(auc))"
   ]
  },
  {
   "cell_type": "markdown",
   "metadata": {},
   "source": [
    "### Using XGBOOST"
   ]
  },
  {
   "cell_type": "code",
   "execution_count": 33,
   "metadata": {},
   "outputs": [],
   "source": [
    "import xgboost"
   ]
  },
  {
   "cell_type": "code",
   "execution_count": 34,
   "metadata": {},
   "outputs": [],
   "source": [
    "xgb_model = xgboost.XGBClassifier()"
   ]
  },
  {
   "cell_type": "code",
   "execution_count": 35,
   "metadata": {},
   "outputs": [
    {
     "name": "stdout",
     "output_type": "stream",
     "text": [
      "('elapsed training time = ', 1.0950939655303955)\n"
     ]
    }
   ],
   "source": [
    "start=time.time()\n",
    "xgb_model.fit(inputs_train, targets_train)\n",
    "end = time.time()\n",
    "print('elapsed training time = ',end-start)"
   ]
  },
  {
   "cell_type": "code",
   "execution_count": 36,
   "metadata": {},
   "outputs": [],
   "source": [
    "xgb_out = xgb_model.predict_proba(inputs_test)"
   ]
  },
  {
   "cell_type": "code",
   "execution_count": 38,
   "metadata": {},
   "outputs": [
    {
     "name": "stdout",
     "output_type": "stream",
     "text": [
      "[[0.6721802  0.32781985]\n",
      " [0.45654404 0.54345596]\n",
      " [0.66014075 0.33985925]\n",
      " ...\n",
      " [0.66714436 0.33285564]\n",
      " [0.53046024 0.4695398 ]\n",
      " [0.6931692  0.30683082]]\n"
     ]
    }
   ],
   "source": [
    "print(xgb_out)"
   ]
  },
  {
   "cell_type": "code",
   "execution_count": 39,
   "metadata": {},
   "outputs": [
    {
     "data": {
      "text/plain": [
       "2000"
      ]
     },
     "execution_count": 39,
     "metadata": {},
     "output_type": "execute_result"
    }
   ],
   "source": [
    "xgb_out.size\n",
    "out = xgb_out[:,1]\n",
    "out.size"
   ]
  },
  {
   "cell_type": "code",
   "execution_count": 40,
   "metadata": {},
   "outputs": [],
   "source": [
    "fpr, tpr, thresholds = metrics.roc_curve(targets_test, out)"
   ]
  },
  {
   "cell_type": "code",
   "execution_count": 41,
   "metadata": {},
   "outputs": [
    {
     "name": "stdout",
     "output_type": "stream",
     "text": [
      "AUC: 0.766501224313\n"
     ]
    }
   ],
   "source": [
    "auc = metrics.auc(fpr, tpr)\n",
    "print('AUC: {}'.format(auc))"
   ]
  },
  {
   "cell_type": "code",
   "execution_count": 42,
   "metadata": {},
   "outputs": [
    {
     "name": "stderr",
     "output_type": "stream",
     "text": [
      "Warning in <TFile::Append>: Replacing existing TH1: score_sig (Potential memory leak).\n",
      "Warning in <TFile::Append>: Replacing existing TH1: score_bkg (Potential memory leak).\n"
     ]
    },
    {
     "data": {
      "image/png": "[encoded data removed]",
      "text/plain": [
       "<IPython.core.display.Image object>"
      ]
     },
     "metadata": {},
     "output_type": "display_data"
    }
   ],
   "source": [
    "pS = ROOT.TH1D(\"score_sig\",\"Score\",101,0,1.01)\n",
    "pB = ROOT.TH1D(\"score_bkg\",\"Score (Background)\",101,0,1.01)\n",
    "for i in range (0,out.shape[0]):\n",
    "    if (targets_test[i] == 1): \n",
    "        pS.Fill(out[i])\n",
    "    else:\n",
    "        pB.Fill(out[i])\n",
    "        \n",
    "pS.SetLineColor(ROOT.kRed)\n",
    "pS.Draw()\n",
    "pB.Draw('same')\n",
    "ROOT.gPad.Draw()"
   ]
  },
  {
   "cell_type": "code",
   "execution_count": null,
   "metadata": {},
   "outputs": [],
   "source": []
  }
 ],
 "metadata": {
  "kernelspec": {
   "display_name": "Python 2",
   "language": "python",
   "name": "python2"
  },
  "language_info": {
   "codemirror_mode": {
    "name": "ipython",
    "version": 2
   },
   "file_extension": ".py",
   "mimetype": "text/x-python",
   "name": "python",
   "nbconvert_exporter": "python",
   "pygments_lexer": "ipython2",
   "version": "2.7.15"
  }
 },
 "nbformat": 4,
 "nbformat_minor": 1
}
