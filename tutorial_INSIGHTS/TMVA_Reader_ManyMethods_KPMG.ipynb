{
 "cells": [
  {
   "cell_type": "markdown",
   "metadata": {},
   "source": [
    "<img src=\"http://oproject.org/tiki-download_file.php?fileId=8&display&x=450&y=128\">\n",
    "<img src=\"http://files.oproject.org/tmvalogo.png\" height=\"50%\" width=\"50%\">\n",
    "\n",
    "# TMVA  Reader Example \n",
    "\n",
    "#### Example of applying the trained classified of TMVA on a data set and evaluate the classifier"
   ]
  },
  {
   "cell_type": "code",
   "execution_count": 1,
   "metadata": {
    "collapsed": true
   },
   "outputs": [],
   "source": [
    "TMVA::Tools::Instance();"
   ]
  },
  {
   "cell_type": "markdown",
   "metadata": {},
   "source": [
    "### Choose TMVA method to evaluate"
   ]
  },
  {
   "cell_type": "code",
   "execution_count": 2,
   "metadata": {
    "collapsed": false
   },
   "outputs": [
    {
     "name": "stdout",
     "output_type": "stream",
     "text": [
      "(std::vector<TString> &) { @0x7fb45fd773f0, @0x7fb45fd77408, @0x7fb45fd77420 }\n"
     ]
    }
   ],
   "source": [
    "std::vector<TString> methodNames = {\"BDT\",\"DL_CPU\",\"Keras_dense13\"}"
   ]
  },
  {
   "cell_type": "markdown",
   "metadata": {},
   "source": [
    "###  Give input file \n"
   ]
  },
  {
   "cell_type": "code",
   "execution_count": 3,
   "metadata": {
    "collapsed": true
   },
   "outputs": [],
   "source": [
    "TFile * inputFile = TFile::Open(\"http://www.cern.ch/moneta/root/Higgs_data_200k.root\");"
   ]
  },
  {
   "cell_type": "code",
   "execution_count": 4,
   "metadata": {
    "collapsed": false
   },
   "outputs": [
    {
     "name": "stdout",
     "output_type": "stream",
     "text": [
      "TWebFile**\t\thttp://www.cern.ch/moneta/root/Higgs_data_200k.root\t\n",
      " TWebFile*\t\thttp://www.cern.ch/moneta/root/Higgs_data_200k.root\t\n",
      "  KEY: TTree\tsig_tree;1\tSignal Tree\n",
      "  KEY: TTree\tbkg_tree;1\tBackground Tree\n",
      "  KEY: TTree\ttest_tree;1\tTesting Tree\n"
     ]
    }
   ],
   "source": [
    "inputFile->ls();\n"
   ]
  },
  {
   "cell_type": "code",
   "execution_count": 5,
   "metadata": {
    "collapsed": false
   },
   "outputs": [
    {
     "name": "stdout",
     "output_type": "stream",
     "text": [
      "******************************************************************************\n",
      "*Tree    :sig_tree  : Signal Tree                                            *\n",
      "*Entries :   200000 : Total =        22485706 bytes  File  Size =   19872183 *\n",
      "*        :          : Tree compression factor =   1.13                       *\n",
      "******************************************************************************\n",
      "*Br    0 :lepton_pT : Float_t F                                              *\n",
      "*Entries :   200000 : Total  Size=     803071 bytes  File Size  =     756746 *\n",
      "*Baskets :       25 : Basket Size=      32000 bytes  Compression=   1.06     *\n",
      "*............................................................................*\n",
      "*Br    1 :lepton_eta : Float_t F                                             *\n",
      "*Entries :   200000 : Total  Size=     803099 bytes  File Size  =     739610 *\n",
      "*Baskets :       25 : Basket Size=      32000 bytes  Compression=   1.08     *\n",
      "*............................................................................*\n",
      "*Br    2 :lepton_phi : Float_t F                                             *\n",
      "*Entries :   200000 : Total  Size=     803099 bytes  File Size  =     762946 *\n",
      "*Baskets :       25 : Basket Size=      32000 bytes  Compression=   1.05     *\n",
      "*............................................................................*\n",
      "*Br    3 :missing_energy_magnitude : Float_t F                               *\n",
      "*Entries :   200000 : Total  Size=     803491 bytes  File Size  =     799975 *\n",
      "*Baskets :       25 : Basket Size=      32000 bytes  Compression=   1.00     *\n",
      "*............................................................................*\n",
      "*Br    4 :missing_energy_phi : Float_t F                                     *\n",
      "*Entries :   200000 : Total  Size=     803323 bytes  File Size  =     799925 *\n",
      "*Baskets :       25 : Basket Size=      32000 bytes  Compression=   1.00     *\n",
      "*............................................................................*\n",
      "*Br    5 :jet1_pt   : Float_t F                                              *\n",
      "*Entries :   200000 : Total  Size=     803015 bytes  File Size  =     778063 *\n",
      "*Baskets :       25 : Basket Size=      32000 bytes  Compression=   1.03     *\n",
      "*............................................................................*\n",
      "*Br    6 :jet1_eta  : Float_t F                                              *\n",
      "*Entries :   200000 : Total  Size=     803043 bytes  File Size  =     736604 *\n",
      "*Baskets :       25 : Basket Size=      32000 bytes  Compression=   1.09     *\n",
      "*............................................................................*\n",
      "*Br    7 :jet1_phi  : Float_t F                                              *\n",
      "*Entries :   200000 : Total  Size=     803043 bytes  File Size  =     760949 *\n",
      "*Baskets :       25 : Basket Size=      32000 bytes  Compression=   1.05     *\n",
      "*............................................................................*\n",
      "*Br    8 :jet1_btag : Float_t F                                              *\n",
      "*Entries :   200000 : Total  Size=     803071 bytes  File Size  =     346858 *\n",
      "*Baskets :       25 : Basket Size=      32000 bytes  Compression=   2.31     *\n",
      "*............................................................................*\n",
      "*Br    9 :jet2_pt   : Float_t F                                              *\n",
      "*Entries :   200000 : Total  Size=     803015 bytes  File Size  =     772292 *\n",
      "*Baskets :       25 : Basket Size=      32000 bytes  Compression=   1.04     *\n",
      "*............................................................................*\n",
      "*Br   10 :jet2_eta  : Float_t F                                              *\n",
      "*Entries :   200000 : Total  Size=     803043 bytes  File Size  =     736608 *\n",
      "*Baskets :       25 : Basket Size=      32000 bytes  Compression=   1.09     *\n",
      "*............................................................................*\n",
      "*Br   11 :jet2_phi  : Float_t F                                              *\n",
      "*Entries :   200000 : Total  Size=     803043 bytes  File Size  =     763573 *\n",
      "*Baskets :       25 : Basket Size=      32000 bytes  Compression=   1.05     *\n",
      "*............................................................................*\n",
      "*Br   12 :jet2_btag : Float_t F                                              *\n",
      "*Entries :   200000 : Total  Size=     803071 bytes  File Size  =     339205 *\n",
      "*Baskets :       25 : Basket Size=      32000 bytes  Compression=   2.36     *\n",
      "*............................................................................*\n",
      "*Br   13 :jet3_pt   : Float_t F                                              *\n",
      "*Entries :   200000 : Total  Size=     803015 bytes  File Size  =     755603 *\n",
      "*Baskets :       25 : Basket Size=      32000 bytes  Compression=   1.06     *\n",
      "*............................................................................*\n",
      "*Br   14 :jet3_eta  : Float_t F                                              *\n",
      "*Entries :   200000 : Total  Size=     803043 bytes  File Size  =     743082 *\n",
      "*Baskets :       25 : Basket Size=      32000 bytes  Compression=   1.08     *\n",
      "*............................................................................*\n",
      "*Br   15 :jet3_phi  : Float_t F                                              *\n",
      "*Entries :   200000 : Total  Size=     803043 bytes  File Size  =     764442 *\n",
      "*Baskets :       25 : Basket Size=      32000 bytes  Compression=   1.05     *\n",
      "*............................................................................*\n",
      "*Br   16 :jet3_btag : Float_t F                                              *\n",
      "*Entries :   200000 : Total  Size=     803071 bytes  File Size  =     317327 *\n",
      "*Baskets :       25 : Basket Size=      32000 bytes  Compression=   2.52     *\n",
      "*............................................................................*\n",
      "*Br   17 :jet4_pt   : Float_t F                                              *\n",
      "*Entries :   200000 : Total  Size=     803015 bytes  File Size  =     743758 *\n",
      "*Baskets :       25 : Basket Size=      32000 bytes  Compression=   1.08     *\n",
      "*............................................................................*\n",
      "*Br   18 :jet4_eta  : Float_t F                                              *\n",
      "*Entries :   200000 : Total  Size=     803043 bytes  File Size  =     747430 *\n",
      "*Baskets :       25 : Basket Size=      32000 bytes  Compression=   1.07     *\n",
      "*............................................................................*\n",
      "*Br   19 :jet4_phi  : Float_t F                                              *\n",
      "*Entries :   200000 : Total  Size=     803043 bytes  File Size  =     764202 *\n",
      "*Baskets :       25 : Basket Size=      32000 bytes  Compression=   1.05     *\n",
      "*............................................................................*\n",
      "*Br   20 :jet4_btag : Float_t F                                              *\n",
      "*Entries :   200000 : Total  Size=     803071 bytes  File Size  =     289973 *\n",
      "*Baskets :       25 : Basket Size=      32000 bytes  Compression=   2.76     *\n",
      "*............................................................................*\n",
      "*Br   21 :m_jj      : Float_t F                                              *\n",
      "*Entries :   200000 : Total  Size=     802931 bytes  File Size  =     799975 *\n",
      "*Baskets :       25 : Basket Size=      32000 bytes  Compression=   1.00     *\n",
      "*............................................................................*\n",
      "*Br   22 :m_jjj     : Float_t F                                              *\n",
      "*Entries :   200000 : Total  Size=     802959 bytes  File Size  =     799900 *\n",
      "*Baskets :       25 : Basket Size=      32000 bytes  Compression=   1.00     *\n",
      "*............................................................................*\n",
      "*Br   23 :m_lv      : Float_t F                                              *\n",
      "*Entries :   200000 : Total  Size=     802931 bytes  File Size  =     792527 *\n",
      "*Baskets :       25 : Basket Size=      32000 bytes  Compression=   1.01     *\n",
      "*............................................................................*\n",
      "*Br   24 :m_jlv     : Float_t F                                              *\n",
      "*Entries :   200000 : Total  Size=     802959 bytes  File Size  =     799900 *\n",
      "*Baskets :       25 : Basket Size=      32000 bytes  Compression=   1.00     *\n",
      "*............................................................................*\n",
      "*Br   25 :m_bb      : Float_t F                                              *\n",
      "*Entries :   200000 : Total  Size=     802931 bytes  File Size  =     799975 *\n",
      "*Baskets :       25 : Basket Size=      32000 bytes  Compression=   1.00     *\n",
      "*............................................................................*\n",
      "*Br   26 :m_wbb     : Float_t F                                              *\n",
      "*Entries :   200000 : Total  Size=     802959 bytes  File Size  =     799900 *\n",
      "*Baskets :       25 : Basket Size=      32000 bytes  Compression=   1.00     *\n",
      "*............................................................................*\n",
      "*Br   27 :m_wwbb    : Float_t F                                              *\n",
      "*Entries :   200000 : Total  Size=     802987 bytes  File Size  =     799925 *\n",
      "*Baskets :       25 : Basket Size=      32000 bytes  Compression=   1.00     *\n",
      "*............................................................................*\n"
     ]
    }
   ],
   "source": [
    "auto sig_tree = (TTree*) inputFile->Get(\"sig_tree\");\n",
    "auto bkg_tree = (TTree*) inputFile->Get(\"bkg_tree\");\n",
    "sig_tree->Print(); "
   ]
  },
  {
   "cell_type": "markdown",
   "metadata": {},
   "source": [
    "### Declare Reader\n"
   ]
  },
  {
   "cell_type": "code",
   "execution_count": 6,
   "metadata": {
    "collapsed": true
   },
   "outputs": [],
   "source": [
    "\n",
    "TMVA::Reader reader( \"!Color:!Silent\" );\n"
   ]
  },
  {
   "cell_type": "markdown",
   "metadata": {},
   "source": [
    "### Add Variable\n",
    "\n",
    "We add variables to the reader exactly in the same way we did for the **DataLoader** during the training\n",
    "\n",
    "We need to specify the address of the variable in order to pass it to TMVA when we iterate on the TTree\n"
   ]
  },
  {
   "cell_type": "code",
   "execution_count": 7,
   "metadata": {
    "collapsed": true
   },
   "outputs": [],
   "source": [
    "float m_jj, m_jjj, m_lv, m_jlv, m_bb, m_wbb, m_wwbb;\n",
    "float jet1_pt, jet2_pt, jet3_pt, jet4_pt,  lepton_pT, missing_energy_magnitude;"
   ]
  },
  {
   "cell_type": "code",
   "execution_count": 8,
   "metadata": {
    "collapsed": true
   },
   "outputs": [],
   "source": [
    "// add variables \n",
    "reader.AddVariable(\"m_jj\",&m_jj);\n",
    "reader.AddVariable(\"m_jjj\",&m_jjj);\n",
    "reader.AddVariable(\"m_lv\",&m_lv);\n",
    "reader.AddVariable(\"m_jlv\",&m_jlv);\n",
    "reader.AddVariable(\"m_bb\",&m_bb);\n",
    "reader.AddVariable(\"m_wbb\",&m_wbb);\n",
    "reader.AddVariable(\"m_wwbb\",&m_wwbb);\n",
    "\n",
    "reader.AddVariable(\"jet1_pt\",&jet1_pt);\n",
    "reader.AddVariable(\"jet2_pt\",&jet2_pt);\n",
    "reader.AddVariable(\"jet3_pt\",&jet3_pt);\n",
    "reader.AddVariable(\"jet4_pt\",&jet4_pt);\n",
    "\n",
    "reader.AddVariable(\"lepton_pT\",&lepton_pT);\n",
    "reader.AddVariable(\"missing_energy_magnitude\",&missing_energy_magnitude);\n"
   ]
  },
  {
   "cell_type": "markdown",
   "metadata": {},
   "source": [
    "## Setup Classifiers\n",
    "\n",
    "We set up the classifiers by reading the input weights from the appropriate files\n",
    "\n",
    "The file is stored for example as \n",
    "\n",
    "####  *dataset/weights/TMVAClassification_BDT.weights.xml"
   ]
  },
  {
   "cell_type": "code",
   "execution_count": 9,
   "metadata": {
    "collapsed": false
   },
   "outputs": [
    {
     "name": "stdout",
     "output_type": "stream",
     "text": [
      "                         : Booking \"BDT\" of type \"BDT\" from dataset/weights/TMVA_Higgs_Classification_BDT.weights.xml.\n",
      "                         : Reading weight file: dataset/weights/TMVA_Higgs_Classification_BDT.weights.xml\n",
      "<HEADER> DataSetInfo              : [Default] : Added class \"Signal\"\n",
      "<HEADER> DataSetInfo              : [Default] : Added class \"Background\"\n",
      "                         : Booked classifier \"BDT\" of type: \"BDT\"\n",
      "                         : Booking \"DL_CPU\" of type \"DL\" from dataset/weights/TMVA_Higgs_Classification_DL_CPU.weights.xml.\n",
      "                         : Reading weight file: dataset/weights/TMVA_Higgs_Classification_DL_CPU.weights.xml\n",
      "                         : Booked classifier \"DL_CPU\" of type: \"DL\"\n",
      "                         : Booking \"Keras_dense13\" of type \"PyKeras\" from dataset/weights/TMVA_Higgs_Classification_Keras_dense13.weights.xml.\n",
      "<FATAL>                          : Unknown method in map: PyKeras\n",
      "***> abort program execution\n"
     ]
    }
   ],
   "source": [
    "for (size_t i = 0; i < methodNames.size(); ++i) { \n",
    "   TString weightfile = \"dataset/weights/TMVA_Higgs_Classification_\" + methodNames[i] + \".weights.xml\";\n",
    "   reader.BookMVA( methodNames[i], weightfile );\n",
    "}"
   ]
  },
  {
   "cell_type": "code",
   "execution_count": null,
   "metadata": {
    "collapsed": true
   },
   "outputs": [],
   "source": []
  },
  {
   "cell_type": "markdown",
   "metadata": {},
   "source": [
    "### Book histogram to visualize the response"
   ]
  },
  {
   "cell_type": "code",
   "execution_count": null,
   "metadata": {
    "collapsed": true
   },
   "outputs": [],
   "source": [
    "auto h1 = new TH1D(\"h1\",\"Classifier Output on Background Events\",100,-1,1);\n",
    "auto h2 = new TH1D(\"h2\",\"Classifier Output on Signal Events\",100,-1,1);\n",
    "std::vector<std::vector<float>> vout(methodNames.size());"
   ]
  },
  {
   "cell_type": "markdown",
   "metadata": {},
   "source": [
    "## Iterate on the events from the input TTree "
   ]
  },
  {
   "cell_type": "code",
   "execution_count": null,
   "metadata": {
    "collapsed": true
   },
   "outputs": [],
   "source": [
    "auto readEvents = [&](TTree & tree, TH1 & histo) {\n",
    "  tree.SetBranchAddress(\"m_jj\",&m_jj);\n",
    "  tree.SetBranchAddress(\"m_jjj\",&m_jjj);\n",
    "  tree.SetBranchAddress(\"m_lv\",&m_lv) ;\n",
    "  tree.SetBranchAddress(\"m_jlv\",&m_jlv);\n",
    "  tree.SetBranchAddress(\"m_bb\",&m_bb);\n",
    "  tree.SetBranchAddress(\"m_wbb\",&m_wbb);\n",
    "  tree.SetBranchAddress(\"m_wwbb\",&m_wwbb);\n",
    "    \n",
    "  tree.SetBranchAddress(\"jet1_pt\",&jet1_pt);\n",
    "tree.SetBranchAddress(\"jet2_pt\",&jet2_pt);\n",
    "tree.SetBranchAddress(\"jet3_pt\",&jet3_pt);\n",
    "tree.SetBranchAddress(\"jet4_pt\",&jet4_pt);\n",
    "\n",
    "tree.SetBranchAddress(\"lepton_pT\",&lepton_pT);\n",
    "tree.SetBranchAddress(\"missing_energy_magnitude\",&missing_energy_magnitude);\n",
    "\n",
    "\n",
    "    \n",
    "  for (size_t i = 0; i < methodNames.size(); ++i ) {\n",
    "    vout[i].clear(); \n",
    "    vout[i].resize(tree.GetEntries());\n",
    "  }\n",
    "  for (Long64_t ievt=0; ievt < tree.GetEntries();ievt++) {\n",
    "\n",
    "      if (ievt%500 == 0) std::cout << \"--- ... Processing event: \" << ievt << std::endl;\n",
    "\n",
    "      tree.GetEntry(ievt);\n",
    "      \n",
    "      for (size_t i = 0; i < methodNames.size(); ++i ) {\n",
    "    \n",
    "         auto output = reader.EvaluateMVA(methodNames[i]);\n",
    "  \n",
    "         vout[i][ievt] = output;  \n",
    "      }\n",
    "  }\n",
    "};\n",
    "    "
   ]
  },
  {
   "cell_type": "markdown",
   "metadata": {},
   "source": [
    "### Evaluation of the classifier on the given input events\n",
    "\n",
    "We iterate on the input event in the given TTree. We provide as input first the background tree \n",
    "We need first to define the branches we are reading from the trees and then we can read the events calling \n",
    "the readEvents function we have defined before"
   ]
  },
  {
   "cell_type": "code",
   "execution_count": null,
   "metadata": {
    "collapsed": false
   },
   "outputs": [],
   "source": [
    "// read events and fill histogram\n",
    "readEvents(*bkg_tree,*h1); "
   ]
  },
  {
   "cell_type": "code",
   "execution_count": null,
   "metadata": {
    "collapsed": true
   },
   "outputs": [],
   "source": [
    "std::vector<std::vector<float>> bkg_results = vout; "
   ]
  },
  {
   "cell_type": "code",
   "execution_count": null,
   "metadata": {
    "collapsed": true
   },
   "outputs": [],
   "source": []
  },
  {
   "cell_type": "markdown",
   "metadata": {},
   "source": [
    "### Evaluation on the signal  events\n",
    "\n",
    "We evaluate now the classifier on the another tree (e.g. the signal events)\n",
    "\n"
   ]
  },
  {
   "cell_type": "code",
   "execution_count": null,
   "metadata": {
    "collapsed": false
   },
   "outputs": [],
   "source": [
    "readEvents(*sig_tree,*h2); "
   ]
  },
  {
   "cell_type": "code",
   "execution_count": null,
   "metadata": {
    "collapsed": true
   },
   "outputs": [],
   "source": [
    "std::vector<std::vector<float>> sig_results = vout; "
   ]
  },
  {
   "cell_type": "code",
   "execution_count": null,
   "metadata": {
    "collapsed": true
   },
   "outputs": [],
   "source": []
  },
  {
   "cell_type": "markdown",
   "metadata": {},
   "source": [
    "## Make ROC plot"
   ]
  },
  {
   "cell_type": "code",
   "execution_count": null,
   "metadata": {
    "collapsed": true
   },
   "outputs": [],
   "source": [
    "for (size_t i = 0; i < methodNames.size(); ++i) {\n",
    "    TMVA::ROCCurve * roc = new TMVA::ROCCurve(sig_results[i], bkg_results[i]);\n",
    "    TGraph *  roc_graph  = roc->GetROCCurve(); \n",
    "    roc_graph->SetTitle(methodNames[i]);\n",
    "    std::cout << \"method \" << methodNames[i] << \" ROC integral = \" << roc->GetROCIntegral() << std::end;\n",
    "    roc_graph->SetLineColor(i+1);\n",
    "    if (i == 0) roc_graph->Draw(\"AL\");\n",
    "    else roc_graph->Draw(\"L\");\n",
    "}"
   ]
  },
  {
   "cell_type": "code",
   "execution_count": null,
   "metadata": {
    "collapsed": true
   },
   "outputs": [],
   "source": [
    "gPad->Draw();\n",
    "std::cout << \"ROC integral = \" << roc.GetROCIntegral(); "
   ]
  },
  {
   "cell_type": "code",
   "execution_count": null,
   "metadata": {
    "collapsed": true
   },
   "outputs": [],
   "source": []
  }
 ],
 "metadata": {
  "kernelspec": {
   "display_name": "ROOT C++",
   "language": "c++",
   "name": "root"
  },
  "language_info": {
   "codemirror_mode": "text/x-c++src",
   "file_extension": ".C",
   "mimetype": " text/x-c++src",
   "name": "c++"
  }
 },
 "nbformat": 4,
 "nbformat_minor": 1
}
